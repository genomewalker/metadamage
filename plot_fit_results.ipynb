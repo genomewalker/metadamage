{
 "metadata": {
  "language_info": {
   "codemirror_mode": {
    "name": "ipython",
    "version": 3
   },
   "file_extension": ".py",
   "mimetype": "text/x-python",
   "name": "python",
   "nbconvert_exporter": "python",
   "pygments_lexer": "ipython3",
   "version": "3.8.7-final"
  },
  "orig_nbformat": 2,
  "kernelspec": {
   "name": "python3",
   "display_name": "Python 3.8.7 64-bit ('metadamage38')",
   "metadata": {
    "interpreter": {
     "hash": "63d3835a37bea083f13ce588be55edec39350ba943204b1de8b2e600d211d186"
    }
   }
  }
 },
 "nbformat": 4,
 "nbformat_minor": 2,
 "cells": [
  {
   "cell_type": "code",
   "execution_count": 1,
   "metadata": {},
   "outputs": [],
   "source": [
    "# Scientific Library\n",
    "import numpy as np\n",
    "import pandas as pd\n",
    "from pathlib import Path\n",
    "import plotly as py\n",
    "import plotly.express as px\n",
    "import plotly.figure_factory as ff\n",
    "\n",
    "from metadamage import utils"
   ]
  },
  {
   "cell_type": "code",
   "execution_count": 2,
   "metadata": {},
   "outputs": [],
   "source": [
    "input_files = list(Path(\"\").rglob(\"./data/fits/*.csv\"))"
   ]
  },
  {
   "cell_type": "code",
   "execution_count": 3,
   "metadata": {},
   "outputs": [],
   "source": [
    "dfs = []\n",
    "for file in input_files:\n",
    "    df = pd.read_csv(file)\n",
    "    cols = list(df.columns)\n",
    "    cols[0] = 'taxid'\n",
    "    df.columns = cols\n",
    "    name = utils.extract_name(file, max_length=20)\n",
    "    df['name'] = name\n",
    "    dfs.append(df)\n"
   ]
  },
  {
   "cell_type": "code",
   "execution_count": 4,
   "metadata": {},
   "outputs": [
    {
     "output_type": "execute_result",
     "data": {
      "text/plain": [
       "       taxid     D_max   n_sigma  D_max_lower_hpdi  D_max_upper_hpdi  \\\n",
       "0          1  0.448445  8.412160          0.435209          0.464514   \n",
       "1     131567  0.448161  8.422496          0.430949          0.460320   \n",
       "2       2759  0.451838  8.312691          0.435601          0.464251   \n",
       "3      33090  0.452352  8.499618          0.438455          0.467702   \n",
       "4      35493  0.452262  8.533230          0.440029          0.469333   \n",
       "...      ...       ...       ...               ...               ...   \n",
       "3995    1396  0.000000 -2.556453          0.000000          0.000000   \n",
       "3996    1866  0.000000 -0.079891          0.000000          0.500000   \n",
       "3997    1707  0.142857  0.343010          0.000000          0.285714   \n",
       "3998    1405  0.000000  0.643811          0.000000          1.000000   \n",
       "3999     482  0.166667 -0.883412          0.000000          0.166667   \n",
       "\n",
       "        q_mean  concentration_mean  D_max_marginalized_mean  N_alignments  \\\n",
       "0     0.625865         1559.919819                 0.447680      60445656   \n",
       "1     0.626324         1552.312281                 0.447992      60445181   \n",
       "2     0.626059         1527.901714                 0.451684      60094660   \n",
       "3     0.625721         1549.861381                 0.451898      60008321   \n",
       "4     0.625563         1550.216294                 0.452137      60008225   \n",
       "...        ...                 ...                      ...           ...   \n",
       "3995  0.707621          957.671831                 1.056107            12   \n",
       "3996  0.454435         1006.405936                 0.184299            11   \n",
       "3997  0.490549          980.597713                 0.167310            11   \n",
       "3998  0.556612          988.557643                 0.349230            11   \n",
       "3999  0.441321          962.689003                 0.117880            11   \n",
       "\n",
       "      N_z1_forward  ...  D_max_forward  n_sigma_reverse  D_max_reverse  \\\n",
       "0         13113435  ...       0.452185         4.978596       0.444106   \n",
       "1         13113307  ...       0.451769         4.943124       0.444402   \n",
       "2         13001213  ...       0.455556         5.190804       0.448406   \n",
       "3         12978386  ...       0.456176         5.212990       0.448543   \n",
       "4         12978366  ...       0.455952         4.925043       0.447841   \n",
       "...            ...  ...            ...              ...            ...   \n",
       "3995             1  ...       0.000000         2.561011       0.000000   \n",
       "3996             2  ...       0.000000        -0.255351       0.000000   \n",
       "3997             7  ...       0.142857         1.535959       0.285714   \n",
       "3998             1  ...       0.000000         1.029279       0.000000   \n",
       "3999             6  ...       0.166667        -0.640775       0.166667   \n",
       "\n",
       "      asymmetry                     name  N_alignments_log10  \\\n",
       "0      4.819366  KapK-198A-Ext-55-Lib...            7.781365   \n",
       "1      4.800994  KapK-198A-Ext-55-Lib...            7.781362   \n",
       "2      4.934529  KapK-198A-Ext-55-Lib...            7.778836   \n",
       "3      5.308374  KapK-198A-Ext-55-Lib...            7.778211   \n",
       "4      4.739024  KapK-198A-Ext-55-Lib...            7.778211   \n",
       "...         ...                      ...                 ...   \n",
       "3995  -2.370465  SJArg-1-Nit__number_...            1.079181   \n",
       "3996   0.424536  SJArg-1-Nit__number_...            1.041393   \n",
       "3997  -0.159356  SJArg-1-Nit__number_...            1.041393   \n",
       "3998   1.956575  SJArg-1-Nit__number_...            1.041393   \n",
       "3999   1.772190  SJArg-1-Nit__number_...            1.041393   \n",
       "\n",
       "      N_alignments_sqrt  N_alignments_str  N_sum_total_log10 N_sum_total_str  \n",
       "0           7774.680444             60.4M           8.532024            340M  \n",
       "1           7774.649896             60.4M           8.532019            340M  \n",
       "2           7752.074561             60.1M           8.528095            337M  \n",
       "3           7746.503792               60M           8.527348            337M  \n",
       "4           7746.497596               60M           8.527347            337M  \n",
       "...                 ...               ...                ...             ...  \n",
       "3995           3.464102                12           1.778151              60  \n",
       "3996           3.316625                11           2.033424             108  \n",
       "3997           3.316625                11           2.100371             126  \n",
       "3998           3.316625                11           1.748188              56  \n",
       "3999           3.316625                11           2.008600             102  \n",
       "\n",
       "[4000 rows x 25 columns]"
      ],
      "text/html": "<div>\n<style scoped>\n    .dataframe tbody tr th:only-of-type {\n        vertical-align: middle;\n    }\n\n    .dataframe tbody tr th {\n        vertical-align: top;\n    }\n\n    .dataframe thead th {\n        text-align: right;\n    }\n</style>\n<table border=\"1\" class=\"dataframe\">\n  <thead>\n    <tr style=\"text-align: right;\">\n      <th></th>\n      <th>taxid</th>\n      <th>D_max</th>\n      <th>n_sigma</th>\n      <th>D_max_lower_hpdi</th>\n      <th>D_max_upper_hpdi</th>\n      <th>q_mean</th>\n      <th>concentration_mean</th>\n      <th>D_max_marginalized_mean</th>\n      <th>N_alignments</th>\n      <th>N_z1_forward</th>\n      <th>...</th>\n      <th>D_max_forward</th>\n      <th>n_sigma_reverse</th>\n      <th>D_max_reverse</th>\n      <th>asymmetry</th>\n      <th>name</th>\n      <th>N_alignments_log10</th>\n      <th>N_alignments_sqrt</th>\n      <th>N_alignments_str</th>\n      <th>N_sum_total_log10</th>\n      <th>N_sum_total_str</th>\n    </tr>\n  </thead>\n  <tbody>\n    <tr>\n      <th>0</th>\n      <td>1</td>\n      <td>0.448445</td>\n      <td>8.412160</td>\n      <td>0.435209</td>\n      <td>0.464514</td>\n      <td>0.625865</td>\n      <td>1559.919819</td>\n      <td>0.447680</td>\n      <td>60445656</td>\n      <td>13113435</td>\n      <td>...</td>\n      <td>0.452185</td>\n      <td>4.978596</td>\n      <td>0.444106</td>\n      <td>4.819366</td>\n      <td>KapK-198A-Ext-55-Lib...</td>\n      <td>7.781365</td>\n      <td>7774.680444</td>\n      <td>60.4M</td>\n      <td>8.532024</td>\n      <td>340M</td>\n    </tr>\n    <tr>\n      <th>1</th>\n      <td>131567</td>\n      <td>0.448161</td>\n      <td>8.422496</td>\n      <td>0.430949</td>\n      <td>0.460320</td>\n      <td>0.626324</td>\n      <td>1552.312281</td>\n      <td>0.447992</td>\n      <td>60445181</td>\n      <td>13113307</td>\n      <td>...</td>\n      <td>0.451769</td>\n      <td>4.943124</td>\n      <td>0.444402</td>\n      <td>4.800994</td>\n      <td>KapK-198A-Ext-55-Lib...</td>\n      <td>7.781362</td>\n      <td>7774.649896</td>\n      <td>60.4M</td>\n      <td>8.532019</td>\n      <td>340M</td>\n    </tr>\n    <tr>\n      <th>2</th>\n      <td>2759</td>\n      <td>0.451838</td>\n      <td>8.312691</td>\n      <td>0.435601</td>\n      <td>0.464251</td>\n      <td>0.626059</td>\n      <td>1527.901714</td>\n      <td>0.451684</td>\n      <td>60094660</td>\n      <td>13001213</td>\n      <td>...</td>\n      <td>0.455556</td>\n      <td>5.190804</td>\n      <td>0.448406</td>\n      <td>4.934529</td>\n      <td>KapK-198A-Ext-55-Lib...</td>\n      <td>7.778836</td>\n      <td>7752.074561</td>\n      <td>60.1M</td>\n      <td>8.528095</td>\n      <td>337M</td>\n    </tr>\n    <tr>\n      <th>3</th>\n      <td>33090</td>\n      <td>0.452352</td>\n      <td>8.499618</td>\n      <td>0.438455</td>\n      <td>0.467702</td>\n      <td>0.625721</td>\n      <td>1549.861381</td>\n      <td>0.451898</td>\n      <td>60008321</td>\n      <td>12978386</td>\n      <td>...</td>\n      <td>0.456176</td>\n      <td>5.212990</td>\n      <td>0.448543</td>\n      <td>5.308374</td>\n      <td>KapK-198A-Ext-55-Lib...</td>\n      <td>7.778211</td>\n      <td>7746.503792</td>\n      <td>60M</td>\n      <td>8.527348</td>\n      <td>337M</td>\n    </tr>\n    <tr>\n      <th>4</th>\n      <td>35493</td>\n      <td>0.452262</td>\n      <td>8.533230</td>\n      <td>0.440029</td>\n      <td>0.469333</td>\n      <td>0.625563</td>\n      <td>1550.216294</td>\n      <td>0.452137</td>\n      <td>60008225</td>\n      <td>12978366</td>\n      <td>...</td>\n      <td>0.455952</td>\n      <td>4.925043</td>\n      <td>0.447841</td>\n      <td>4.739024</td>\n      <td>KapK-198A-Ext-55-Lib...</td>\n      <td>7.778211</td>\n      <td>7746.497596</td>\n      <td>60M</td>\n      <td>8.527347</td>\n      <td>337M</td>\n    </tr>\n    <tr>\n      <th>...</th>\n      <td>...</td>\n      <td>...</td>\n      <td>...</td>\n      <td>...</td>\n      <td>...</td>\n      <td>...</td>\n      <td>...</td>\n      <td>...</td>\n      <td>...</td>\n      <td>...</td>\n      <td>...</td>\n      <td>...</td>\n      <td>...</td>\n      <td>...</td>\n      <td>...</td>\n      <td>...</td>\n      <td>...</td>\n      <td>...</td>\n      <td>...</td>\n      <td>...</td>\n      <td>...</td>\n    </tr>\n    <tr>\n      <th>3995</th>\n      <td>1396</td>\n      <td>0.000000</td>\n      <td>-2.556453</td>\n      <td>0.000000</td>\n      <td>0.000000</td>\n      <td>0.707621</td>\n      <td>957.671831</td>\n      <td>1.056107</td>\n      <td>12</td>\n      <td>1</td>\n      <td>...</td>\n      <td>0.000000</td>\n      <td>2.561011</td>\n      <td>0.000000</td>\n      <td>-2.370465</td>\n      <td>SJArg-1-Nit__number_...</td>\n      <td>1.079181</td>\n      <td>3.464102</td>\n      <td>12</td>\n      <td>1.778151</td>\n      <td>60</td>\n    </tr>\n    <tr>\n      <th>3996</th>\n      <td>1866</td>\n      <td>0.000000</td>\n      <td>-0.079891</td>\n      <td>0.000000</td>\n      <td>0.500000</td>\n      <td>0.454435</td>\n      <td>1006.405936</td>\n      <td>0.184299</td>\n      <td>11</td>\n      <td>2</td>\n      <td>...</td>\n      <td>0.000000</td>\n      <td>-0.255351</td>\n      <td>0.000000</td>\n      <td>0.424536</td>\n      <td>SJArg-1-Nit__number_...</td>\n      <td>1.041393</td>\n      <td>3.316625</td>\n      <td>11</td>\n      <td>2.033424</td>\n      <td>108</td>\n    </tr>\n    <tr>\n      <th>3997</th>\n      <td>1707</td>\n      <td>0.142857</td>\n      <td>0.343010</td>\n      <td>0.000000</td>\n      <td>0.285714</td>\n      <td>0.490549</td>\n      <td>980.597713</td>\n      <td>0.167310</td>\n      <td>11</td>\n      <td>7</td>\n      <td>...</td>\n      <td>0.142857</td>\n      <td>1.535959</td>\n      <td>0.285714</td>\n      <td>-0.159356</td>\n      <td>SJArg-1-Nit__number_...</td>\n      <td>1.041393</td>\n      <td>3.316625</td>\n      <td>11</td>\n      <td>2.100371</td>\n      <td>126</td>\n    </tr>\n    <tr>\n      <th>3998</th>\n      <td>1405</td>\n      <td>0.000000</td>\n      <td>0.643811</td>\n      <td>0.000000</td>\n      <td>1.000000</td>\n      <td>0.556612</td>\n      <td>988.557643</td>\n      <td>0.349230</td>\n      <td>11</td>\n      <td>1</td>\n      <td>...</td>\n      <td>0.000000</td>\n      <td>1.029279</td>\n      <td>0.000000</td>\n      <td>1.956575</td>\n      <td>SJArg-1-Nit__number_...</td>\n      <td>1.041393</td>\n      <td>3.316625</td>\n      <td>11</td>\n      <td>1.748188</td>\n      <td>56</td>\n    </tr>\n    <tr>\n      <th>3999</th>\n      <td>482</td>\n      <td>0.166667</td>\n      <td>-0.883412</td>\n      <td>0.000000</td>\n      <td>0.166667</td>\n      <td>0.441321</td>\n      <td>962.689003</td>\n      <td>0.117880</td>\n      <td>11</td>\n      <td>6</td>\n      <td>...</td>\n      <td>0.166667</td>\n      <td>-0.640775</td>\n      <td>0.166667</td>\n      <td>1.772190</td>\n      <td>SJArg-1-Nit__number_...</td>\n      <td>1.041393</td>\n      <td>3.316625</td>\n      <td>11</td>\n      <td>2.008600</td>\n      <td>102</td>\n    </tr>\n  </tbody>\n</table>\n<p>4000 rows × 25 columns</p>\n</div>"
     },
     "metadata": {},
     "execution_count": 4
    }
   ],
   "source": [
    "df = pd.concat(dfs, axis=0, ignore_index=True)\n",
    "df[\"N_alignments_log10\"] = np.log10(df[\"N_alignments\"])\n",
    "df[\"N_alignments_sqrt\"] = np.sqrt(df[\"N_alignments\"])\n",
    "df['N_alignments_str'] = df.apply(lambda row: utils.human_format(row['N_alignments']), axis = 1) \n",
    "df['N_sum_total_log10'] = np.log10(df[\"N_sum_total\"])\n",
    "df['N_sum_total_str'] = df.apply(lambda row: utils.human_format(row['N_sum_total']), axis = 1) \n",
    "\n",
    "df"
   ]
  },
  {
   "cell_type": "code",
   "execution_count": 5,
   "metadata": {},
   "outputs": [
    {
     "output_type": "execute_result",
     "data": {
      "text/plain": [
       "      N_alignments  N_sum_total  N_alignments_log10  N_sum_total_log10\n",
       "0         60445656    340426665            7.781365           8.532024\n",
       "1         60445181    340422786            7.781362           8.532019\n",
       "2         60094660    337361306            7.778836           8.528095\n",
       "3         60008321    336781435            7.778211           8.527348\n",
       "4         60008225    336780774            7.778211           8.527347\n",
       "...            ...          ...                 ...                ...\n",
       "3995            12           60            1.079181           1.778151\n",
       "3996            11          108            1.041393           2.033424\n",
       "3997            11          126            1.041393           2.100371\n",
       "3998            11           56            1.041393           1.748188\n",
       "3999            11          102            1.041393           2.008600\n",
       "\n",
       "[4000 rows x 4 columns]"
      ],
      "text/html": "<div>\n<style scoped>\n    .dataframe tbody tr th:only-of-type {\n        vertical-align: middle;\n    }\n\n    .dataframe tbody tr th {\n        vertical-align: top;\n    }\n\n    .dataframe thead th {\n        text-align: right;\n    }\n</style>\n<table border=\"1\" class=\"dataframe\">\n  <thead>\n    <tr style=\"text-align: right;\">\n      <th></th>\n      <th>N_alignments</th>\n      <th>N_sum_total</th>\n      <th>N_alignments_log10</th>\n      <th>N_sum_total_log10</th>\n    </tr>\n  </thead>\n  <tbody>\n    <tr>\n      <th>0</th>\n      <td>60445656</td>\n      <td>340426665</td>\n      <td>7.781365</td>\n      <td>8.532024</td>\n    </tr>\n    <tr>\n      <th>1</th>\n      <td>60445181</td>\n      <td>340422786</td>\n      <td>7.781362</td>\n      <td>8.532019</td>\n    </tr>\n    <tr>\n      <th>2</th>\n      <td>60094660</td>\n      <td>337361306</td>\n      <td>7.778836</td>\n      <td>8.528095</td>\n    </tr>\n    <tr>\n      <th>3</th>\n      <td>60008321</td>\n      <td>336781435</td>\n      <td>7.778211</td>\n      <td>8.527348</td>\n    </tr>\n    <tr>\n      <th>4</th>\n      <td>60008225</td>\n      <td>336780774</td>\n      <td>7.778211</td>\n      <td>8.527347</td>\n    </tr>\n    <tr>\n      <th>...</th>\n      <td>...</td>\n      <td>...</td>\n      <td>...</td>\n      <td>...</td>\n    </tr>\n    <tr>\n      <th>3995</th>\n      <td>12</td>\n      <td>60</td>\n      <td>1.079181</td>\n      <td>1.778151</td>\n    </tr>\n    <tr>\n      <th>3996</th>\n      <td>11</td>\n      <td>108</td>\n      <td>1.041393</td>\n      <td>2.033424</td>\n    </tr>\n    <tr>\n      <th>3997</th>\n      <td>11</td>\n      <td>126</td>\n      <td>1.041393</td>\n      <td>2.100371</td>\n    </tr>\n    <tr>\n      <th>3998</th>\n      <td>11</td>\n      <td>56</td>\n      <td>1.041393</td>\n      <td>1.748188</td>\n    </tr>\n    <tr>\n      <th>3999</th>\n      <td>11</td>\n      <td>102</td>\n      <td>1.041393</td>\n      <td>2.008600</td>\n    </tr>\n  </tbody>\n</table>\n<p>4000 rows × 4 columns</p>\n</div>"
     },
     "metadata": {},
     "execution_count": 5
    }
   ],
   "source": [
    "df[[\"N_alignments\", \"N_sum_total\", \"N_alignments_log10\", \"N_sum_total_log10\"]]"
   ]
  },
  {
   "cell_type": "code",
   "execution_count": 6,
   "metadata": {},
   "outputs": [],
   "source": [
    "# https://plotly.com/python/discrete-color/#color-sequences-in-plotly-express\n",
    "cmap = px.colors.qualitative.D3\n",
    "#cmap = px.colors.qualitative.Dark24\n"
   ]
  },
  {
   "cell_type": "code",
   "execution_count": 7,
   "metadata": {},
   "outputs": [
    {
     "output_type": "execute_result",
     "data": {
      "text/plain": [
       "'./figures/plotly_fit_results.html'"
      ]
     },
     "metadata": {},
     "execution_count": 7
    }
   ],
   "source": [
    "\n",
    "hover_data={'name':False, # remove species from hover data\n",
    "            'n_sigma':':.2f', \n",
    "            'D_max':':.2f', \n",
    "            'N_alignments_str': True, \n",
    "            'N_alignments_sqrt': False, \n",
    "            }\n",
    "\n",
    "\n",
    "fig_fit_results = px.scatter(df, x=\"n_sigma\", y=\"D_max\",\n",
    "                 size=\"N_alignments_sqrt\", color=\"name\", \n",
    "                 hover_name=\"name\",\n",
    "                 size_max=30, \n",
    "                 width=1400, height=800, \n",
    "                 hover_data=hover_data,\n",
    "                 color_discrete_sequence=cmap, opacity=0.2, range_y=(0, 1), \n",
    "                 title='Fit Results',\n",
    "                 )\n",
    "\n",
    "fig_fit_results.update_traces(marker=dict(line=dict(width=0)), selector=dict(mode='markers'))\n",
    "fig_fit_results.update_layout(xaxis_title=r\"$\\Large n_\\sigma$\", \n",
    "                              yaxis_title=r\"$\\Large D_\\mathrm{max}$\", \n",
    "                              font_size=16, \n",
    "                              legend=dict(title=\"Files\", title_font_size=20), \n",
    "                            )\n",
    "\n",
    "py.offline.plot(fig_fit_results, filename='./figures/plotly_fit_results', include_mathjax='cdn')\n",
    "#fig\n"
   ]
  },
  {
   "cell_type": "code",
   "execution_count": 8,
   "metadata": {},
   "outputs": [
    {
     "output_type": "execute_result",
     "data": {
      "text/plain": [
       "'./figures/plotly_scatter_matrix.html'"
      ]
     },
     "metadata": {},
     "execution_count": 8
    }
   ],
   "source": [
    "\n",
    "hover_data={'name':False, 'N_alignments_str': True, 'N_alignments_log10': False, \"N_sum_total_str\": True, \"N_sum_total_log10\": False}\n",
    "\n",
    "fig_scatter_matrix = px.scatter_matrix(df, dimensions=[\"n_sigma\", \"D_max\", \"N_alignments_log10\", \"q_mean\", \"concentration_mean\", \"asymmetry\", \"N_sum_total_log10\"],                    color=\"name\", \n",
    "                 hover_name=\"name\",\n",
    "                 size_max=10, \n",
    "                 width=1600, \n",
    "                 height=1200, \n",
    "                 hover_data=hover_data,\n",
    "                 color_discrete_sequence=cmap, \n",
    "                 opacity=0.1, \n",
    "                 title='Scatter Matrix',\n",
    ")\n",
    "fig_scatter_matrix.update_traces(diagonal_visible=False)\n",
    "\n",
    "fig_scatter_matrix.update_layout(legend_title=\"Files\", font_size=16)\n",
    "\n",
    "py.offline.plot(fig_scatter_matrix, filename='./figures/plotly_scatter_matrix', include_mathjax='cdn')\n",
    "#fig_scatter_matrix\n",
    "\n"
   ]
  },
  {
   "cell_type": "code",
   "execution_count": 9,
   "metadata": {},
   "outputs": [
    {
     "output_type": "execute_result",
     "data": {
      "text/plain": [
       "'./figures/plotly_forward_reverse.html'"
      ]
     },
     "metadata": {},
     "execution_count": 9
    }
   ],
   "source": [
    "from plotly.subplots import make_subplots\n",
    "import plotly.graph_objects as go\n",
    "\n",
    "fig_forward_reverse = make_subplots(rows=2, cols=2, \n",
    "            subplot_titles=(r'$\\Large n_\\sigma$',  r'$\\Large D_\\mathrm{max}$', r'$\\Large N_{z=1}$', r'$\\Large N_\\mathrm{sum}$'))\n",
    "\n",
    "kwargs = {}\n",
    "for i, (name, _) in enumerate(df.groupby(\"name\", sort=False)):\n",
    "    kwargs[name] = dict(name=name, mode=\"markers\", legendgroup=name, marker=dict(color=cmap[i], opacity=0.2))\n",
    "\n",
    "\n",
    "\n",
    "for i, (name, group) in enumerate(df.groupby(\"name\", sort=False)):\n",
    "\n",
    "    fig_forward_reverse.add_trace(\n",
    "        go.Scatter(x=group['n_sigma_forward'], y=group['n_sigma_reverse'], **kwargs[name]),\n",
    "        row=1, col=1)\n",
    "\n",
    "    fig_forward_reverse.add_trace(\n",
    "        go.Scatter(x=group['D_max_forward'], y=group['D_max_reverse'], showlegend=False, **kwargs[name]),\n",
    "        row=1, col=2)\n",
    "\n",
    "    fig_forward_reverse.add_trace(\n",
    "        go.Scatter(x=group['N_z1_forward'], y=group['N_z1_reverse'], showlegend=False, **kwargs[name]),\n",
    "        row=2, col=1)\n",
    "\n",
    "    fig_forward_reverse.add_trace(\n",
    "        go.Scatter(x=group['N_sum_forward'], y=group['N_sum_reverse'], showlegend=False, **kwargs[name]),\n",
    "        row=2, col=2)\n",
    "\n",
    "\n",
    "\n",
    "# Update xaxis properties\n",
    "fig_forward_reverse.update_xaxes(row=1, col=1, title_text=r\"$\\Large n_\\sigma \\text{ forward}$\")\n",
    "fig_forward_reverse.update_yaxes(row=1, col=1, title_text=r\"$\\Large n_\\sigma \\text{ reverse}$\")\n",
    "\n",
    "fig_forward_reverse.update_xaxes(row=1, col=2, title_text=r\"$\\Large D_\\mathrm{max} \\text{ forward}$\") # range=[10, 50], showgrid=False, type=\"log\"\n",
    "fig_forward_reverse.update_yaxes(row=1, col=2, title_text=r\"$\\Large D_\\mathrm{max} \\text{ reverse}$\")\n",
    "\n",
    "fig_forward_reverse.update_xaxes(row=2, col=1, title_text=r\"$\\Large N_{z=1} \\text{ forward}$\")\n",
    "fig_forward_reverse.update_yaxes(row=2, col=1, title_text=r\"$\\Large N_{z=1} \\text{ reverse}$\")\n",
    "\n",
    "fig_forward_reverse.update_xaxes(row=2, col=2, title_text=r\"$\\Large N_\\mathrm{sum} \\text{ forward}$\")\n",
    "fig_forward_reverse.update_yaxes(row=2, col=2, title_text=r\"$\\Large N_\\mathrm{sum} \\text{ reverse}$\")\n",
    "\n",
    "# Update title and width, height\n",
    "fig_forward_reverse.update_layout(height=800, width=1400, title=dict(text=\"Forward vs Reverse\", font_size=20), \n",
    "    legend=dict(\n",
    "        title_text=\"Files\",\n",
    "        title_font_size=20,\n",
    "        font_size=16,\n",
    "        tracegroupgap=2)\n",
    "    )\n",
    "\n",
    "#fig\n",
    "py.offline.plot(fig_forward_reverse, filename='./figures/plotly_forward_reverse', include_mathjax='cdn')\n",
    "\n"
   ]
  },
  {
   "cell_type": "code",
   "execution_count": null,
   "metadata": {},
   "outputs": [],
   "source": []
  }
 ]
}